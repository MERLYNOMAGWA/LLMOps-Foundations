{
 "cells": [
  {
   "cell_type": "code",
   "execution_count": 5,
   "id": "ad5ee2f9",
   "metadata": {},
   "outputs": [
    {
     "name": "stderr",
     "output_type": "stream",
     "text": [
      "c:\\Users\\USER\\Desktop\\DirectEd\\examples\\LLMOps-Fundamentals\\env\\Lib\\site-packages\\tqdm\\auto.py:21: TqdmWarning: IProgress not found. Please update jupyter and ipywidgets. See https://ipywidgets.readthedocs.io/en/stable/user_install.html\n",
      "  from .autonotebook import tqdm as notebook_tqdm\n"
     ]
    }
   ],
   "source": [
    "import os\n",
    "from dotenv import load_dotenv\n",
    "from langchain_google_genai import ChatGoogleGenerativeAI\n",
    "from langchain_core.prompts import ChatPromptTemplate\n",
    "from langchain_core.output_parsers import StrOutputParser\n"
   ]
  },
  {
   "cell_type": "code",
   "execution_count": null,
   "id": "5266910e",
   "metadata": {},
   "outputs": [],
   "source": [
    "load_dotenv()\n",
    "\n",
    "os.environ[\"GOOGLE_API_KEY\"] = os.getenv(\"GOOGLE_API_KEY\")\n",
    "os.environ[\"LANGCHAIN_TRACING_V2\"] = \"true\"\n",
    "os.environ[\"LANGCHAIN_API_KEY\"] = os.getenv(\"LANGCHAIN_API_KEY\")"
   ]
  },
  {
   "cell_type": "code",
   "execution_count": 8,
   "id": "c9501d36",
   "metadata": {},
   "outputs": [],
   "source": [
    "prompt = ChatPromptTemplate.from_messages(\n",
    "    [ \n",
    "         (\"system\", \"You are a helpful assistant. Please respond to the user's request based on the provided context.\"),\n",
    "         (\"user\", \"Question: {question}\\nContext: {context}\"),\n",
    "      ] \n",
    ")"
   ]
  },
  {
   "cell_type": "code",
   "execution_count": 9,
   "id": "8b4cf575",
   "metadata": {},
   "outputs": [],
   "source": [
    "model = ChatGoogleGenerativeAI(\n",
    "    model=\"gemini-1.5-flash\",\n",
    "    temperature=0,\n",
    "    google_api_key=os.getenv(\"GOOGLE_API_KEY\")\n",
    ")\n",
    "\n",
    "output_parser = StrOutputParser()\n",
    "      "
   ]
  },
  {
   "cell_type": "code",
   "execution_count": 10,
   "id": "b1effa1c",
   "metadata": {},
   "outputs": [],
   "source": [
    "chain = prompt | model | output_parser"
   ]
  },
  {
   "cell_type": "code",
   "execution_count": 14,
   "id": "9fa20040",
   "metadata": {},
   "outputs": [],
   "source": [
    "question = \"Are dragons interesting?\"\n",
    "\n",
    "context = \"\"\" \n",
    "A dragon is a magical animal, an animal that can fly and breathe fire.\n",
    "Dragons are often depicted as large, serpentine creatures with wings and sharp claws. They are known for their intelligence and cunning, often possessing magical abilities. In many cultures, dragons are seen as symbols of power and strength, and they are often associated with treasure and hoarding.\n",
    "Dragons are often depicted as guardians of treasure, and they are known for their fierce loyalty to their hoard. They are often portrayed as solitary creatures, living in remote mountains or caves, and they are known for their fierce temper and aggressive nature.\n",
    "Dragons are often depicted as wise and ancient beings, with a deep understanding of magic and the natural world. They are often seen as protectors of the earth and its inhabitants, and they are known for their ability to communicate with humans and other creatures.\n",
    "Dragons are often depicted as powerful and majestic creatures, with a deep connection to the natural world. They are often seen as symbols of strength and wisdom, and they are revered in many cultures for their magical abilities and fierce loyalty.\n",
    "\"\"\""
   ]
  },
  {
   "cell_type": "code",
   "execution_count": 15,
   "id": "d534af0b",
   "metadata": {},
   "outputs": [
    {
     "name": "stdout",
     "output_type": "stream",
     "text": [
      "Based on the provided text, yes, dragons are interesting.  The description highlights their magical abilities, intelligence, strength, connection to nature, and cultural significance as symbols of power and wisdom.  Their serpentine form, ability to fly and breathe fire, and hoarding of treasure also contribute to their fascinating nature.\n"
     ]
    }
   ],
   "source": [
    "print(chain.invoke({\"question\": question, \"context\": context}))"
   ]
  }
 ],
 "metadata": {
  "kernelspec": {
   "display_name": "env (3.11.9)",
   "language": "python",
   "name": "python3"
  },
  "language_info": {
   "codemirror_mode": {
    "name": "ipython",
    "version": 3
   },
   "file_extension": ".py",
   "mimetype": "text/x-python",
   "name": "python",
   "nbconvert_exporter": "python",
   "pygments_lexer": "ipython3",
   "version": "3.11.9"
  }
 },
 "nbformat": 4,
 "nbformat_minor": 5
}

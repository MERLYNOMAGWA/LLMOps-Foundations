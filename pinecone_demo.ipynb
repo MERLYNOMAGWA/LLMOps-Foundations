{
 "cells": [
  {
   "cell_type": "code",
   "execution_count": 2,
   "id": "e5e15750",
   "metadata": {},
   "outputs": [
    {
     "name": "stdout",
     "output_type": "stream",
     "text": [
      "Hello, world!\n"
     ]
    }
   ],
   "source": [
    "print(\"Hello, world!\")"
   ]
  },
  {
   "cell_type": "code",
   "execution_count": 5,
   "id": "6ae237c4",
   "metadata": {},
   "outputs": [],
   "source": [
    "from pinecone import Pinecone\n",
    "\n",
    "pc = Pinecone(api_key=\"pcsk_4xQkgA_EDYYi4zNsX1buNHEEg1hgZcgqxfQRn13SDVww9FJzpoBhSkY31bfKUxZfBv2mFj\")\n",
    "\n",
    "# create a dense index with integrated embedding\n",
    "index_name = \"dense-index\"\n",
    "if not pc.has_index(index_name):\n",
    "   pc.create_index_for_model(\n",
    "      name=index_name,\n",
    "      cloud=\"aws\",\n",
    "      region=\"us-east-1\",\n",
    "      embed={\n",
    "         \"model\": \"llama-text-embed-v2\",\n",
    "         \"field_map\": {\"text\": \"chunk_text\"}\n",
    "      }\n",
    "   )\n",
    "    \n"
   ]
  },
  {
   "cell_type": "code",
   "execution_count": 6,
   "id": "3e7270e6",
   "metadata": {},
   "outputs": [],
   "source": [
    "records = [\n",
    "    { \"_id\": \"rec1\", \"chunk_text\": \"The Eiffel Tower was completed in 1889 and stands in Paris, France.\", \"category\": \"history\" },\n",
    "    { \"_id\": \"rec2\", \"chunk_text\": \"Photosynthesis allows plants to convert sunlight into energy.\", \"category\": \"biology\" },\n",
    "    { \"_id\": \"rec3\", \"chunk_text\": \"Albert Einstein developed the theory of relativity.\", \"category\": \"science\" },\n",
    "    { \"_id\": \"rec4\", \"chunk_text\": \"The mitochondrion is often called the powerhouse of the cell.\", \"category\": \"biology\" },\n",
    "    { \"_id\": \"rec5\", \"chunk_text\": \"Shakespeare wrote many famous plays, including Hamlet and Macbeth.\", \"category\": \"literature\" },\n",
    "    { \"_id\": \"rec6\", \"chunk_text\": \"Water boils at 100°C under standard atmospheric pressure.\", \"category\": \"physics\" },\n",
    "    { \"_id\": \"rec7\", \"chunk_text\": \"The Great Wall of China was built to protect against invasions.\", \"category\": \"history\" },\n",
    "    { \"_id\": \"rec8\", \"chunk_text\": \"Honey never spoils due to its low moisture content and acidity.\", \"category\": \"food\" },\n",
    "    { \"_id\": \"rec9\", \"chunk_text\": \"The speed of light in a vacuum is approximately 299,792 km/s.\", \"category\": \"physics\" },\n",
    "    { \"_id\": \"rec10\", \"chunk_text\": \"Newton's laws describe the motion of objects.\", \"category\": \"physics\" },\n",
    "    { \"_id\": \"rec11\", \"chunk_text\": \"The human brain has approximately 86 billion neurons.\", \"category\": \"biology\" },\n",
    "    { \"_id\": \"rec12\", \"chunk_text\": \"The Amazon Rainforest is one of the most biodiverse places on Earth.\", \"category\": \"geography\" },\n",
    "    { \"_id\": \"rec13\", \"chunk_text\": \"Python is a popular programming language for AI and data science.\", \"category\": \"technology\" },\n",
    "    { \"_id\": \"rec14\", \"chunk_text\": \"The Moon orbits Earth approximately every 27.3 days.\", \"category\": \"astronomy\" },\n",
    "    { \"_id\": \"rec15\", \"chunk_text\": \"Mount Everest is the tallest mountain above sea level.\", \"category\": \"geography\" },\n",
    "    { \"_id\": \"rec16\", \"chunk_text\": \"Leonardo da Vinci painted the Mona Lisa.\", \"category\": \"art\" },\n",
    "    { \"_id\": \"rec17\", \"chunk_text\": \"The heart pumps blood throughout the human body.\", \"category\": \"biology\" },\n",
    "    { \"_id\": \"rec18\", \"chunk_text\": \"The internet was developed from ARPANET in the late 20th century.\", \"category\": \"technology\" },\n",
    "    { \"_id\": \"rec19\", \"chunk_text\": \"Venus is the hottest planet in our solar system.\", \"category\": \"astronomy\" },\n",
    "    { \"_id\": \"rec20\", \"chunk_text\": \"H2O is the chemical formula for water.\", \"category\": \"chemistry\" },\n",
    "    { \"_id\": \"rec21\", \"chunk_text\": \"Charles Darwin proposed the theory of evolution by natural selection.\", \"category\": \"biology\" },\n",
    "    { \"_id\": \"rec22\", \"chunk_text\": \"The Pyramids of Giza are one of the Seven Wonders of the Ancient World.\", \"category\": \"history\" },\n",
    "    { \"_id\": \"rec23\", \"chunk_text\": \"Electricity is carried through conductors such as copper wire.\", \"category\": \"physics\" },\n",
    "    { \"_id\": \"rec24\", \"chunk_text\": \"The Pacific Ocean is the largest ocean on Earth.\", \"category\": \"geography\" },\n",
    "    { \"_id\": \"rec25\", \"chunk_text\": \"DNA stores the genetic instructions of living organisms.\", \"category\": \"biology\" },\n",
    "    { \"_id\": \"rec26\", \"chunk_text\": \"The Wright brothers made the first powered flight in 1903.\", \"category\": \"history\" },\n",
    "    { \"_id\": \"rec27\", \"chunk_text\": \"The Statue of Liberty was a gift from France to the United States.\", \"category\": \"history\" },\n",
    "    { \"_id\": \"rec28\", \"chunk_text\": \"The Milky Way is the galaxy that contains our Solar System.\", \"category\": \"astronomy\" },\n",
    "    { \"_id\": \"rec29\", \"chunk_text\": \"The boiling point of ethanol is 78.37°C.\", \"category\": \"chemistry\" },\n",
    "    { \"_id\": \"rec30\", \"chunk_text\": \"Rome was the capital of the Roman Empire.\", \"category\": \"history\" },\n",
    "    { \"_id\": \"rec31\", \"chunk_text\": \"Cloud computing allows data storage and processing over the internet.\", \"category\": \"technology\" },\n",
    "    { \"_id\": \"rec32\", \"chunk_text\": \"Mars is known as the Red Planet due to iron oxide on its surface.\", \"category\": \"astronomy\" },\n",
    "    { \"_id\": \"rec33\", \"chunk_text\": \"Photosynthesis primarily occurs in plant leaves.\", \"category\": \"biology\" },\n",
    "    { \"_id\": \"rec34\", \"chunk_text\": \"Light travels faster than sound.\", \"category\": \"physics\" },\n",
    "    { \"_id\": \"rec35\", \"chunk_text\": \"The Colosseum in Rome was used for gladiatorial contests.\", \"category\": \"history\" },\n",
    "    { \"_id\": \"rec36\", \"chunk_text\": \"The periodic table organizes elements by atomic number.\", \"category\": \"chemistry\" },\n",
    "    { \"_id\": \"rec37\", \"chunk_text\": \"Saturn is known for its prominent ring system.\", \"category\": \"astronomy\" },\n",
    "    { \"_id\": \"rec38\", \"chunk_text\": \"The pancreas produces insulin, which regulates blood sugar.\", \"category\": \"biology\" },\n",
    "    { \"_id\": \"rec39\", \"chunk_text\": \"The Taj Mahal was built in the 17th century by Mughal Emperor Shah Jahan.\", \"category\": \"history\" },\n",
    "    { \"_id\": \"rec40\", \"chunk_text\": \"HTML stands for HyperText Markup Language.\", \"category\": \"technology\" },\n",
    "    { \"_id\": \"rec41\", \"chunk_text\": \"The Sahara is the largest hot desert in the world.\", \"category\": \"geography\" },\n",
    "    { \"_id\": \"rec42\", \"chunk_text\": \"Einstein won the Nobel Prize in Physics in 1921.\", \"category\": \"science\" },\n",
    "    { \"_id\": \"rec43\", \"chunk_text\": \"The Earth revolves around the Sun once every 365 days.\", \"category\": \"astronomy\" },\n",
    "    { \"_id\": \"rec44\", \"chunk_text\": \"The Great Fire of London occurred in 1666.\", \"category\": \"history\" },\n",
    "    { \"_id\": \"rec45\", \"chunk_text\": \"Gold has the chemical symbol Au.\", \"category\": \"chemistry\" },\n",
    "    { \"_id\": \"rec46\", \"chunk_text\": \"The lungs are responsible for gas exchange in humans.\", \"category\": \"biology\" },\n",
    "    { \"_id\": \"rec47\", \"chunk_text\": \"The Renaissance was a cultural movement spanning the 14th to 17th centuries.\", \"category\": \"history\" },\n",
    "    { \"_id\": \"rec48\", \"chunk_text\": \"Jupiter is the largest planet in the Solar System.\", \"category\": \"astronomy\" },\n",
    "    { \"_id\": \"rec49\", \"chunk_text\": \"Magnetism is a force caused by moving electric charges.\", \"category\": \"physics\" },\n",
    "    { \"_id\": \"rec50\", \"chunk_text\": \"Binary is the basic language of computers, using 0s and 1s.\", \"category\": \"technology\" },\n",
    "    { \"_id\": \"rec51\", \"chunk_text\": \"The Leaning Tower of Pisa is located in Italy.\", \"category\": \"history\" }\n",
    "]"
   ]
  },
  {
   "cell_type": "code",
   "execution_count": 8,
   "id": "8c1a5257",
   "metadata": {},
   "outputs": [
    {
     "name": "stderr",
     "output_type": "stream",
     "text": [
      "c:\\Users\\USER\\Desktop\\DirectEd\\examples\\LLMOps-Fundamentals\\env\\Lib\\site-packages\\tqdm\\auto.py:21: TqdmWarning: IProgress not found. Please update jupyter and ipywidgets. See https://ipywidgets.readthedocs.io/en/stable/user_install.html\n",
      "  from .autonotebook import tqdm as notebook_tqdm\n"
     ]
    }
   ],
   "source": [
    "# target the index\n",
    "dense_index = pc.Index(index_name)\n",
    "# upsert the records into a namespace\n",
    "dense_index.upsert_records(\"example-namespace\", records)"
   ]
  },
  {
   "cell_type": "code",
   "execution_count": 9,
   "id": "638843de",
   "metadata": {},
   "outputs": [
    {
     "name": "stdout",
     "output_type": "stream",
     "text": [
      "{'dimension': 1024,\n",
      " 'index_fullness': 0.0,\n",
      " 'metric': 'cosine',\n",
      " 'namespaces': {'example-namespace': {'vector_count': 51}},\n",
      " 'total_vector_count': 51,\n",
      " 'vector_type': 'dense'}\n"
     ]
    }
   ],
   "source": [
    "#wait for the upserted vectors to be indexed\n",
    "import time\n",
    "time.sleep(10)\n",
    "\n",
    "#view status of the index\n",
    "stats = dense_index.describe_index_stats()\n",
    "print(stats)"
   ]
  },
  {
   "cell_type": "code",
   "execution_count": 10,
   "id": "804c2c5b",
   "metadata": {},
   "outputs": [
    {
     "name": "stdout",
     "output_type": "stream",
     "text": [
      "id: rec15, score: 0.55, text: Mount Everest is the tallest mountain above sea level., category: geography\n",
      "id: rec24, score: 0.19, text: The Pacific Ocean is the largest ocean on Earth., category: geography\n",
      "id: rec22, score: 0.17, text: The Pyramids of Giza are one of the Seven Wonders of the Ancient World., category: history\n",
      "id: rec41, score: 0.14, text: The Sahara is the largest hot desert in the world., category: geography\n",
      "id: rec48, score: 0.12, text: Jupiter is the largest planet in the Solar System., category: astronomy\n",
      "id: rec1, score: 0.12, text: The Eiffel Tower was completed in 1889 and stands in Paris, France., category: history\n",
      "id: rec14, score: 0.1, text: The Moon orbits Earth approximately every 27.3 days., category: astronomy\n",
      "id: rec7, score: 0.09, text: The Great Wall of China was built to protect against invasions., category: history\n",
      "id: rec12, score: 0.09, text: The Amazon Rainforest is one of the most biodiverse places on Earth., category: geography\n",
      "id: rec50, score: 0.08, text: Binary is the basic language of computers, using 0s and 1s., category: technology\n"
     ]
    }
   ],
   "source": [
    "#define the query\n",
    "query = \"What is the tallest mountain in the world?\"\n",
    "\n",
    "# search the dense index\n",
    "results = dense_index.search(\n",
    "    namespace=\"example-namespace\",\n",
    "    query={\n",
    "       \"top_k\": 10,\n",
    "       \"inputs\": {\n",
    "            \"text\": query\n",
    "       }\n",
    "    }\n",
    ")\n",
    "\n",
    "# print the results\n",
    "for hit in results[\"result\"][\"hits\"]:\n",
    "    print(f\"id: {hit['_id']}, score: {round(hit['_score'], 2)}, text: {hit['fields']['chunk_text']}, category: {hit['fields']['category']}\")"
   ]
  }
 ],
 "metadata": {
  "kernelspec": {
   "display_name": "env (3.11.9)",
   "language": "python",
   "name": "python3"
  },
  "language_info": {
   "codemirror_mode": {
    "name": "ipython",
    "version": 3
   },
   "file_extension": ".py",
   "mimetype": "text/x-python",
   "name": "python",
   "nbconvert_exporter": "python",
   "pygments_lexer": "ipython3",
   "version": "3.11.9"
  }
 },
 "nbformat": 4,
 "nbformat_minor": 5
}
